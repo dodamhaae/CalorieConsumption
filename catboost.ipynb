{
 "cells": [
  {
   "cell_type": "code",
   "execution_count": 1,
   "id": "5bd705ec-ac03-43d8-bdb1-bc429da9cd58",
   "metadata": {
    "tags": []
   },
   "outputs": [],
   "source": [
    "import os\n",
    "import random\n",
    "import pandas as pd\n",
    "import numpy as np\n",
    "import sklearn\n",
    "import catboost"
   ]
  },
  {
   "cell_type": "code",
   "execution_count": 2,
   "id": "d6dbf682-97d0-4f3c-ac5c-37de86159bc5",
   "metadata": {
    "tags": []
   },
   "outputs": [],
   "source": [
    "def seed_everything(seed):\n",
    "    random.seed(seed)\n",
    "    os.environ['PYTHONHASHSEED'] = str(seed)\n",
    "    np.random.seed(seed)\n",
    "seed_everything(37) # Seed 고정"
   ]
  },
  {
   "cell_type": "code",
   "execution_count": 3,
   "id": "40608943-1cb4-43ab-b311-fcb1a58d4454",
   "metadata": {
    "tags": []
   },
   "outputs": [],
   "source": [
    "train_df = pd.read_csv('../data/CalorieConsumption/train.csv')\n",
    "test_df = pd.read_csv('../data/CalorieConsumption/test.csv')"
   ]
  },
  {
   "cell_type": "code",
   "execution_count": 4,
   "id": "9b61305a-8a00-4430-822d-6cbe89bd5b5d",
   "metadata": {
    "tags": []
   },
   "outputs": [],
   "source": [
    "# 전체 학습용 데이터 결측값 전처리\n",
    "train_idx = train_df['ID']\n",
    "train_y = train_df['Calories_Burned']\n",
    "train_df = train_df.drop(columns=['ID', 'Calories_Burned'])\n",
    "\n",
    "test_idx = test_df['ID']\n",
    "test_df = test_df.drop(columns=['ID'])"
   ]
  },
  {
   "cell_type": "code",
   "execution_count": 5,
   "id": "01b62fb9-7899-4f6e-9a28-d339deae564d",
   "metadata": {
    "tags": []
   },
   "outputs": [],
   "source": [
    "train_x = pd.get_dummies(train_df)\n",
    "test_x = pd.get_dummies(test_df)"
   ]
  },
  {
   "cell_type": "code",
   "execution_count": 6,
   "id": "6e302da3-136b-4a3a-a7ff-34f96f183e59",
   "metadata": {},
   "outputs": [
    {
     "data": {
      "text/plain": [
       "<catboost.core.CatBoostRegressor at 0x7ff57f752860>"
      ]
     },
     "execution_count": 6,
     "metadata": {},
     "output_type": "execute_result"
    }
   ],
   "source": [
    "# regressor\n",
    "reg = catboost.CatBoostRegressor(learning_rate=0.05, iterations=500, verbose=0)\n",
    "reg.fit(train_x, train_y, early_stopping_rounds=100, cat_features=list(train_x.select_dtypes(\"category\")))"
   ]
  },
  {
   "cell_type": "code",
   "execution_count": 7,
   "id": "39355b25-9586-496e-8265-b83ceee2816e",
   "metadata": {
    "tags": []
   },
   "outputs": [],
   "source": [
    "pred = reg.predict(test_x)"
   ]
  },
  {
   "cell_type": "code",
   "execution_count": 8,
   "id": "33ba61ea-1f3a-4944-a1c4-132fb67697d7",
   "metadata": {
    "tags": []
   },
   "outputs": [],
   "source": [
    "submission = pd.read_csv('../data/CalorieConsumption/sample_submission.csv', index_col=0)"
   ]
  },
  {
   "cell_type": "code",
   "execution_count": 9,
   "id": "2356d9d0-9549-47c0-b151-92b841ff1061",
   "metadata": {
    "tags": []
   },
   "outputs": [],
   "source": [
    "submission['Calories_Burned'] = pred\n",
    "submission = submission.round(1)"
   ]
  },
  {
   "cell_type": "code",
   "execution_count": 10,
   "id": "143e2606-74a0-4693-a05b-638b826b5a5b",
   "metadata": {
    "tags": []
   },
   "outputs": [],
   "source": [
    "submission.to_csv('submission04.csv')"
   ]
  }
 ],
 "metadata": {
  "kernelspec": {
   "display_name": "Python 3 (ipykernel)",
   "language": "python",
   "name": "python3"
  },
  "language_info": {
   "codemirror_mode": {
    "name": "ipython",
    "version": 3
   },
   "file_extension": ".py",
   "mimetype": "text/x-python",
   "name": "python",
   "nbconvert_exporter": "python",
   "pygments_lexer": "ipython3",
   "version": "3.10.6"
  }
 },
 "nbformat": 4,
 "nbformat_minor": 5
}
